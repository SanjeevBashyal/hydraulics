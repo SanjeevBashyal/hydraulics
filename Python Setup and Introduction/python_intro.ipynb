{
 "cells": [
  {
   "cell_type": "markdown",
   "metadata": {},
   "source": [
    "# Welcome to Python for Advanced Hydraulics!\n",
    "\n",
    "### A Hands-On Introduction to Python and its Scientific Libraries\n",
    "\n",
    "**Objective:** This notebook will guide you through the fundamental concepts of the Python programming language and introduce the core libraries we will use for data analysis, numerical modeling, and visualization in this course.\n",
    "\n",
    "**How to use this notebook:**\n",
    "1.  Read the text in the Markdown cells (like this one).\n",
    "2.  Click on a code cell (the ones with `In [ ]:` next to them).\n",
    "3.  Press **`Shift + Enter`** to run the code in that cell.\n",
    "4.  Observe the output and try to understand what the code is doing. Feel free to experiment by changing the code and running it again!"
   ]
  },
  {
   "cell_type": "markdown",
   "metadata": {},
   "source": [
    "--- \n",
    "## Part 1: Python Programming Fundamentals\n",
    "\n",
    "Let's start with the building blocks of Python. We'll focus on the concepts most relevant to engineering and data analysis."
   ]
  },
  {
   "cell_type": "markdown",
   "metadata": {},
   "source": [
    "### 1.1 Variables and Data Types\n",
    "\n",
    "A variable is a name you give to a storage location for data. You can store numbers, text, and other types of data.\n",
    "\n",
    "- **`int`**: Integer (whole numbers)\n",
    "- **`float`**: Floating-point number (numbers with decimals)\n",
    "- **`str`**: String (text)\n",
    "- **`bool`**: Boolean (`True` or `False`)"
   ]
  },
  {
   "cell_type": "code",
   "execution_count": null,
   "metadata": {},
   "outputs": [],
   "source": [
    "# Assigning values to variables\n",
    "river_name = \"Sunkoshi River\"  # A string\n",
    "flow_rate_m3s = 150.5         # A float (cubic meters per second)\n",
    "manning_n = 0.035             # A float (Manning's roughness coefficient)\n",
    "year = 2023                   # An integer\n",
    "is_flood_stage = True         # A boolean\n",
    "\n",
    "# The print() function displays the value of variables\n",
    "print(river_name)\n",
    "print(f\"The flow rate is: {flow_rate_m3s} m^3/s\") # An f-string is a modern way to format strings\n",
    "print(f\"Is the river in flood stage? {is_flood_stage}\")"
   ]
  },
  {
   "cell_type": "markdown",
   "metadata": {},
   "source": [
    "### 1.2 Basic Arithmetic\n",
    "\n",
    "Python can be used as a powerful calculator."
   ]
  },
  {
   "cell_type": "code",
   "execution_count": null,
   "metadata": {},
   "outputs": [],
   "source": [
    "channel_width = 50  # meters\n",
    "flow_depth = 3.2    # meters\n",
    "\n",
    "# Calculate the cross-sectional area (for a rectangular channel)\n",
    "area = channel_width * flow_depth\n",
    "\n",
    "# Calculate the flow velocity (Q = V * A  => V = Q / A)\n",
    "velocity = flow_rate_m3s / area\n",
    "\n",
    "print(f\"Cross-sectional area: {area:.2f} m^2\") # .2f formats the float to 2 decimal places\n",
    "print(f\"Average velocity: {velocity:.2f} m/s\")"
   ]
  },
  {
   "cell_type": "markdown",
   "metadata": {},
   "source": [
    "### 1.3 Data Structures: Lists and Dictionaries\n",
    "\n",
    "**Lists** are ordered collections of items. They are perfect for storing time-series data, like daily rainfall measurements.\n",
    "\n",
    "**Dictionaries** are unordered collections of `key: value` pairs. They are great for storing parameters or metadata."
   ]
  },
  {
   "cell_type": "code",
   "execution_count": null,
   "metadata": {},
   "outputs": [],
   "source": [
    "# A list of daily rainfall measurements in mm\n",
    "daily_rainfall_mm = [0.5, 1.2, 10.8, 5.3, 0.0, 0.2, 3.5]\n",
    "\n",
    "# Access elements by their index (starts at 0)\n",
    "print(f\"Rainfall on day 1: {daily_rainfall_mm[0]} mm\")\n",
    "print(f\"Rainfall on day 3: {daily_rainfall_mm[2]} mm\")\n",
    "\n",
    "# A dictionary for storing model parameters\n",
    "channel_params = {\n",
    "    \"name\": \"Main Canal\",\n",
    "    \"shape\": \"trapezoidal\",\n",
    "    \"manning_n\": 0.022,\n",
    "    \"bottom_width\": 10.0 # meters\n",
    "}\n",
    "\n",
    "# Access values by their key\n",
    "print(f\"The Manning's n for the {channel_params['name']} is {channel_params['manning_n']}\")"
   ]
  },
  {
   "cell_type": "markdown",
   "metadata": {},
   "source": [
    "### 1.4 Control Flow: `if` statements and `for` loops\n",
    "\n",
    "Control flow allows you to execute code conditionally (`if`) or repeatedly (`for`).\n",
    "\n",
    "Let's use an `if/elif/else` block to classify flow based on the **Froude Number** (`Fr = V / sqrt(g*D)`), where `D` is hydraulic depth."
   ]
  },
  {
   "cell_type": "code",
   "execution_count": null,
   "metadata": {},
   "outputs": [],
   "source": [
    "import math # We need the math library for the square root function\n",
    "\n",
    "g = 9.81 # acceleration due to gravity\n",
    "hydraulic_depth = area / channel_width # For a rectangular channel, D = y\n",
    "\n",
    "froude_number = velocity / math.sqrt(g * hydraulic_depth)\n",
    "\n",
    "print(f\"Calculated Froude Number: {froude_number:.3f}\")\n",
    "\n",
    "if froude_number < 1.0:\n",
    "    print(\"Flow regime is: Subcritical\")\n",
    "elif froude_number == 1.0:\n",
    "    print(\"Flow regime is: Critical\")\n",
    "else:\n",
    "    print(\"Flow regime is: Supercritical\")"
   ]
  },
  {
   "cell_type": "markdown",
   "metadata": {},
   "source": [
    "Now, let's use a `for` loop to process our `daily_rainfall_mm` list."
   ]
  },
  {
   "cell_type": "code",
   "execution_count": null,
   "metadata": {},
   "outputs": [],
   "source": [
    "total_rainfall = 0\n",
    "rainy_days = 0\n",
    "\n",
    "# Loop through each value in the list\n",
    "for rainfall in daily_rainfall_mm:\n",
    "    print(f\"Processing measurement: {rainfall} mm\")\n",
    "    total_rainfall += rainfall # Add the current value to the total\n",
    "    if rainfall > 0:\n",
    "        rainy_days += 1\n",
    "\n",
    "print(\"\\n--- Results ---\") # \\n creates a new line\n",
    "print(f\"Total rainfall over the period: {total_rainfall:.2f} mm\")\n",
    "print(f\"Number of rainy days: {rainy_days}\")"
   ]
  },
  {
   "cell_type": "markdown",
   "metadata": {},
   "source": [
    "### 1.5 Functions\n",
    "\n",
    "Functions are reusable blocks of code that perform a specific task. They are essential for writing clean, organized, and non-repetitive code.\n",
    "\n",
    "Let's create a function to calculate velocity using **Manning's Equation**: `V = (1/n) * R_h^(2/3) * S^(1/2)`"
   ]
  },
  {
   "cell_type": "code",
   "execution_count": null,
   "metadata": {},
   "outputs": [],
   "source": [
    "def calculate_manning_velocity(n, hydraulic_radius, channel_slope):\n",
    "    \"\"\"Calculates flow velocity using the Manning's equation.\n",
    "    \n",
    "    Args:\n",
    "        n (float): Manning's roughness coefficient.\n",
    "        hydraulic_radius (float): Hydraulic radius (Rh) in meters.\n",
    "        channel_slope (float): The bed slope of the channel (dimensionless).\n",
    "        \n",
    "    Returns:\n",
    "        float: The calculated velocity in m/s.\n",
    "    \"\"\"\n",
    "    velocity = (1.0 / n) * (hydraulic_radius**(2/3)) * (channel_slope**0.5)\n",
    "    return velocity\n",
    "\n",
    "# Now let's use our function!\n",
    "rh = 2.5  # meters\n",
    "s0 = 0.001 # A gentle slope\n",
    "\n",
    "v_manning = calculate_manning_velocity(n=manning_n, hydraulic_radius=rh, channel_slope=s0)\n",
    "\n",
    "print(f\"Velocity calculated with Manning's equation: {v_manning:.3f} m/s\")"
   ]
  },
  {
   "cell_type": "markdown",
   "metadata": {},
   "source": [
    "### 1.6 An Introduction to Classes (Object-Oriented Programming)\n",
    "\n",
    "Classes are the core of **Object-Oriented Programming (OOP)**. Think of a class as a **blueprint** for creating objects. An object bundles together data (called **attributes**) and functions that operate on that data (called **methods**).\n",
    "\n",
    "**Why is this useful for hydraulics?**\n",
    "Instead of having separate variables for a channel's width, slope, and roughness, we can create a single `Channel` object that holds all of this information. This makes our code more organized, reusable, and intuitive.\n",
    "\n",
    "Let's create a blueprint for a trapezoidal open channel."
   ]
  },
  {
   "cell_type": "code",
   "execution_count": 10,
   "metadata": {},
   "outputs": [],
   "source": [
    "import math\n",
    "\n",
    "class TrapezoidalChannel:\n",
    "    \"\"\"A blueprint for representing a trapezoidal open channel.\"\"\"\n",
    "\n",
    "    # The __init__ method is the constructor. It runs when we create a new object.\n",
    "    def __init__(self, bottom_width, side_slope, manning_n, bed_slope):\n",
    "        # 'self' refers to the specific object instance being created.\n",
    "        # These are the object's attributes (its data).\n",
    "        self.bottom_width = bottom_width # b\n",
    "        self.side_slope = side_slope     # z (as in 1V:zH)\n",
    "        self.manning_n = manning_n       # n\n",
    "        self.bed_slope = bed_slope       # S0\n",
    "        print(f\"Created a new channel with bottom width {self.bottom_width} m.\")\n",
    "\n",
    "    # These are the object's methods (its behaviors).\n",
    "    def calculate_area(self, flow_depth):\n",
    "        \"\"\"Calculates the cross-sectional area for a given flow depth.\"\"\"\n",
    "        return (self.bottom_width + self.side_slope * flow_depth) * flow_depth\n",
    "\n",
    "    def calculate_wetted_perimeter(self, flow_depth):\n",
    "        \"\"\"Calculates the wetted perimeter for a given flow depth.\"\"\"\n",
    "        wetted_side = flow_depth * math.sqrt(1 + self.side_slope**2)\n",
    "        return self.bottom_width + 2 * wetted_side\n",
    "    \n",
    "    def calculate_hydraulic_radius(self, flow_depth):\n",
    "        \"\"\"Calculates the hydraulic radius (A/P).\"\"\"\n",
    "        area = self.calculate_area(flow_depth)\n",
    "        perimeter = self.calculate_wetted_perimeter(flow_depth)\n",
    "        return area / perimeter\n",
    "    \n",
    "    def __repr__(self):\n",
    "        \"\"\"Provides a nice string representation of the object.\"\"\"\n",
    "        return f\"TrapezoidalChannel(b={self.bottom_width}, z={self.side_slope}, n={self.manning_n})\""
   ]
  },
  {
   "cell_type": "markdown",
   "metadata": {},
   "source": [
    "Now that we have our `TrapezoidalChannel` blueprint, we can create actual channel **objects** (also called **instances**)."
   ]
  },
  {
   "cell_type": "code",
   "execution_count": null,
   "metadata": {},
   "outputs": [],
   "source": [
    "# Create an instance of our channel class\n",
    "main_canal = TrapezoidalChannel(bottom_width=10, side_slope=2, manning_n=0.014, bed_slope=0.0005)\n",
    "\n",
    "# Create a second, different channel from the same blueprint\n",
    "drainage_ditch = TrapezoidalChannel(bottom_width=2, side_slope=3, manning_n=0.030, bed_slope=0.001)\n",
    "\n",
    "# The __repr__ method gives us a clean printout\n",
    "print(\"\\n--- Our Channel Objects ---\")\n",
    "print(f\"Main Canal: {main_canal}\")\n",
    "print(f\"Drainage Ditch: {drainage_ditch}\")\n",
    "\n",
    "# Now, let's use the methods on the 'main_canal' object\n",
    "current_flow_depth = 2.5 # meters\n",
    "\n",
    "area = main_canal.calculate_area(current_flow_depth)\n",
    "rh = main_canal.calculate_hydraulic_radius(current_flow_depth)\n",
    "\n",
    "print(\"\\n--- Calculations for Main Canal at 2.5m depth ---\")\n",
    "print(f\"Cross-sectional Area (A): {area:.3f} m^2\")\n",
    "print(f\"Hydraulic Radius (Rh): {rh:.3f} m\")"
   ]
  },
  {
   "cell_type": "markdown",
   "metadata": {},
   "source": [
    "--- \n",
    "## Part 2: Introduction to Key Scientific Libraries\n",
    "\n",
    "Now that we have a grasp of basic Python, let's see why it's so powerful for scientific computing. The power comes from its ecosystem of specialized libraries.\n",
    "\n",
    "First, we import them, often with standard abbreviations (`np` for NumPy, `pd` for Pandas, etc.)."
   ]
  },
  {
   "cell_type": "code",
   "execution_count": null,
   "metadata": {},
   "outputs": [],
   "source": [
    "import numpy as np\n",
    "import pandas as pd\n",
    "import matplotlib.pyplot as plt\n",
    "import scipy.optimize as opt\n",
    "import sympy as sp\n",
    "\n",
    "print(\"All libraries imported successfully!\")"
   ]
  },
  {
   "cell_type": "markdown",
   "metadata": {},
   "source": [
    "### 2.1 NumPy: Numerical Python\n",
    "\n",
    "**What it's for:** The fundamental package for numerical computation. Its main feature is the powerful N-dimensional array object (`ndarray`).\n",
    "\n",
    "**Why we use it:** NumPy arrays are much faster and more memory-efficient than Python lists for numerical operations. They allow you to perform mathematical operations on entire arrays at once (called \"vectorization\")."
   ]
  },
  {
   "cell_type": "code",
   "execution_count": null,
   "metadata": {},
   "outputs": [],
   "source": [
    "# A Python list\n",
    "list_of_depths = [1.2, 1.5, 1.8, 2.1]\n",
    "\n",
    "# A NumPy array\n",
    "np_array_of_depths = np.array(list_of_depths)\n",
    "\n",
    "print(f\"Original NumPy array: {np_array_of_depths}\")\n",
    "\n",
    "# Let's say we want to add 0.5m of freeboard to all depths.\n",
    "# With a list, we'd need a loop. With NumPy, it's simple:\n",
    "depths_with_freeboard = np_array_of_depths + 0.5\n",
    "\n",
    "print(f\"Depths with freeboard: {depths_with_freeboard}\")\n",
    "\n",
    "# We can also create arrays from scratch. E.g., a time array from 0 to 10 seconds with 5 steps.\n",
    "time_steps = np.linspace(0, 10, 5)\n",
    "print(f\"Time steps array: {time_steps}\")"
   ]
  },
  {
   "cell_type": "markdown",
   "metadata": {},
   "source": [
    "### 2.2 Pandas: Python Data Analysis Library\n",
    "\n",
    "**What it's for:** High-performance, easy-to-use data structures and data analysis tools. Its primary objects are the `Series` (1D) and the `DataFrame` (2D, like a spreadsheet).\n",
    "\n",
    "**Why we use it:** It's the standard for reading, writing, cleaning, filtering, and analyzing tabular data (e.g., from CSV or Excel files)."
   ]
  },
  {
   "cell_type": "code",
   "execution_count": null,
   "metadata": {},
   "outputs": [],
   "source": [
    "# Let's create some sample data representing daily streamflow\n",
    "data = {\n",
    "    'date': pd.to_datetime(['2023-10-01', '2023-10-02', '2023-10-03', '2023-10-04', '2023-10-05']),\n",
    "    'flow_m3s': [95.2, 110.5, 155.8, 142.1, 120.7],\n",
    "    'turbidity_NTU': [12.3, 15.6, 25.1, 22.0, 18.5]\n",
    "}\n",
    "\n",
    "# Create a DataFrame\n",
    "df = pd.DataFrame(data)\n",
    "\n",
    "# Set the date as the index (the primary label for rows)\n",
    "df.set_index('date', inplace=True)\n",
    "\n",
    "print(\"Our Streamflow DataFrame:\")\n",
    "print(df)\n",
    "\n",
    "print(\"\\n--- Basic Stats ---\")\n",
    "print(df.describe()) # Get quick summary statistics\n",
    "\n",
    "print(\"\\n--- Peak Flow ---\")\n",
    "print(df['flow_m3s'].max()) # Get the maximum value in a column"
   ]
  },
  {
   "cell_type": "markdown",
   "metadata": {},
   "source": [
    "### 2.3 Matplotlib: The Plotting Library\n",
    "\n",
    "**What it's for:** Creating static, animated, and interactive visualizations.\n",
    "\n",
    "**Why we use it:** A picture is worth a thousand data points! We use it to create plots, graphs, and figures to understand our data and communicate our results. It integrates perfectly with Pandas."
   ]
  },
  {
   "cell_type": "code",
   "execution_count": null,
   "metadata": {},
   "outputs": [],
   "source": [
    "# Let's plot the streamflow data from our Pandas DataFrame\n",
    "plt.figure(figsize=(10, 5)) # Create a figure of a specific size\n",
    "\n",
    "plt.plot(df.index, df['flow_m3s'], marker='o', linestyle='-', color='b')\n",
    "\n",
    "# Add labels and a title for a professional-looking plot\n",
    "plt.title('Daily Streamflow Hydrograph', fontsize=16)\n",
    "plt.xlabel('Date', fontsize=12)\n",
    "plt.ylabel('Flow Rate (m³/s)', fontsize=12)\n",
    "plt.grid(True) # Add a grid for better readability\n",
    "plt.show() # Display the plot"
   ]
  },
  {
   "cell_type": "markdown",
   "metadata": {},
   "source": [
    "### 2.4 SciPy: Scientific Python\n",
    "\n",
    "**What it's for:** Building on NumPy, SciPy provides a large collection of algorithms for optimization, integration, interpolation, statistics, and more.\n",
    "\n",
    "**Why we use it:** When we need to solve complex numerical problems, like fitting a curve to data, solving differential equations (e.g., for unsteady flow), or performing statistical tests."
   ]
  },
  {
   "cell_type": "code",
   "execution_count": null,
   "metadata": {},
   "outputs": [],
   "source": [
    "# Example: Curve fitting. Let's fit a rating curve (flow vs. stage) to some noisy data.\n",
    "\n",
    "# Stage-discharge relationship often follows a power law: Q = a * (H - H0)^b\n",
    "def rating_curve(H, a, b, H0):\n",
    "    return a * (H - H0)**b\n",
    "\n",
    "# Generate some synthetic, noisy data\n",
    "stage_data = np.array([2.1, 2.5, 3.0, 3.8, 4.5, 5.1])\n",
    "flow_data = np.array([50, 90, 150, 280, 410, 550]) + np.random.normal(0, 15, 6)\n",
    "\n",
    "# Use scipy.optimize.curve_fit to find the best parameters a, b, H0\n",
    "params, covariance = opt.curve_fit(rating_curve, stage_data, flow_data, p0=[100, 1.5, 1.0])\n",
    "\n",
    "a_fit, b_fit, H0_fit = params\n",
    "print(f\"Fitted Parameters: a={a_fit:.2f}, b={b_fit:.2f}, H0={H0_fit:.2f}\")\n",
    "\n",
    "# Plot the results\n",
    "plt.figure(figsize=(10, 6))\n",
    "plt.scatter(stage_data, flow_data, label='Measured Data') # The original data\n",
    "stage_smooth = np.linspace(stage_data.min(), stage_data.max(), 100)\n",
    "plt.plot(stage_smooth, rating_curve(stage_smooth, *params), 'r-', label='Fitted Rating Curve')\n",
    "plt.title('Stage-Discharge Rating Curve Fit')\n",
    "plt.xlabel('Stage (m)')\n",
    "plt.ylabel('Discharge (m³/s)')\n",
    "plt.legend()\n",
    "plt.grid(True)\n",
    "plt.show()"
   ]
  },
  {
   "cell_type": "markdown",
   "metadata": {},
   "source": [
    "### 2.5 SymPy: Symbolic Mathematics\n",
    "\n",
    "**What it's for:** Performing symbolic mathematics (algebra).\n",
    "\n",
    "**Why we use it:** Unlike NumPy which works with numbers, SymPy works with symbols. It's like a computer algebra system (CAS) that can solve equations, differentiate, integrate, and simplify expressions, which is incredibly useful for deriving formulas before you start coding the numerical solution."
   ]
  },
  {
   "cell_type": "code",
   "execution_count": null,
   "metadata": {},
   "outputs": [],
   "source": [
    "# Let's use SymPy to symbolically rearrange the Manning's equation to solve for Slope (S)\n",
    "import sympy as sp\n",
    "\n",
    "# Define all variables as symbolic objects\n",
    "V, n, Rh, s0 = sp.symbols('V n R_h s_0')\n",
    "\n",
    "# Define the Manning's equation\n",
    "manning_eq = sp.Eq(V, (1/n) * Rh**sp.Rational(2,3) * s0**sp.Rational(1,2))\n",
    "\n",
    "print(\"Original Manning's Equation:\")\n",
    "display(manning_eq) # display() renders equations nicely in Jupyter\n",
    "\n",
    "# Solve the equation for the symbol S\n",
    "slope_solution = sp.solve(manning_eq, s0)\n",
    "\n",
    "print(\"\\nEquation solved for s0:\")\n",
    "display(sp.Eq(s0, slope_solution[0]))"
   ]
  },
  {
   "cell_type": "markdown",
   "metadata": {},
   "source": [
    "--- \n",
    "## Congratulations!\n",
    "\n",
    "We have completed this introductory tour of Python and its core scientific libraries. We have learned how to:\n",
    "\n",
    "-   Write basic Python code using variables, lists, loops, and functions.\n",
    "-   Use **NumPy** for efficient numerical calculations on arrays.\n",
    "-   Use **Pandas** to load, inspect, and analyze tabular data.\n",
    "-   Use **Matplotlib** to create meaningful plots from your data.\n",
    "-   Use **SciPy** for advanced numerical tasks like curve fitting.\n",
    "-   Use **SymPy** for symbolic manipulation of hydraulic equations.\n",
    "\n",
    "This foundation is everything you need to start tackling the more complex problems we will encounter in Advanced Hydraulics."
   ]
  }
 ],
 "metadata": {
  "kernelspec": {
   "display_name": "venv",
   "language": "python",
   "name": "python3"
  },
  "language_info": {
   "codemirror_mode": {
    "name": "ipython",
    "version": 3
   },
   "file_extension": ".py",
   "mimetype": "text/x-python",
   "name": "python",
   "nbconvert_exporter": "python",
   "pygments_lexer": "ipython3",
   "version": "3.13.5"
  }
 },
 "nbformat": 4,
 "nbformat_minor": 4
}
